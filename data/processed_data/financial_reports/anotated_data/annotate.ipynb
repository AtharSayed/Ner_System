{
 "cells": [
  {
   "cell_type": "code",
   "execution_count": 1,
   "metadata": {},
   "outputs": [],
   "source": [
    "import pandas as pd\n",
    "import spacy\n",
    "from sklearn.model_selection import train_test_split"
   ]
  },
  {
   "cell_type": "code",
   "execution_count": 14,
   "metadata": {},
   "outputs": [],
   "source": []
  },
  {
   "cell_type": "code",
   "execution_count": null,
   "metadata": {},
   "outputs": [
    {
     "name": "stdout",
     "output_type": "stream",
     "text": [
      "Annotated data has been saved to F:\\M.Tech_CollgeMaterials\\Ner_System\\data\\processed_data\\financial_reports\\anotated_data\\Fin_annotated_dtst.csv\n"
     ]
    }
   ],
   "source": [
    "\n",
    "\n",
    "# Define the input and output CSV file paths\n",
    "input_csv_path = r'F:\\M.Tech_CollgeMaterials\\Ner_System\\data\\processed_data\\financial_reports\\Financial-QA-10k_processed.csv'  # Input CSV file\n",
    "output_csv_path = r'F:\\M.Tech_CollgeMaterials\\Ner_System\\data\\processed_data\\financial_reports\\anotated_data\\Fin_annotated_dtst.csv'  # Output CSV file\n",
    "\n",
    "# Load the dataset\n",
    "data = pd.read_csv(input_csv_path)\n",
    "\n",
    "# Drop rows with missing values in the 'cleaned_text' column\n",
    "data = data.dropna(subset=['cleaned_text'])\n",
    "\n",
    "# Ensure there's a 'cleaned_text' column in the dataset\n",
    "if 'cleaned_text' not in data.columns:\n",
    "    raise ValueError(\"The input CSV must contain a 'cleaned_text' column.\")\n",
    "\n",
    "# Prepare a list to store the results\n",
    "annotated_data = []\n",
    "\n",
    "# Perform NER for each row in the dataset\n",
    "for idx, row in data.iterrows():\n",
    "    text = row['cleaned_text']  # Get text from the 'cleaned_text' column\n",
    "\n",
    "    # Check if text is a valid string\n",
    "    if isinstance(text, str):\n",
    "        # Process text through SpaCy's NER pipeline\n",
    "        doc = nlp(text)\n",
    "        entities = []\n",
    "\n",
    "        # Extract entities from the processed text\n",
    "        for ent in doc.ents:\n",
    "            entities.append({\n",
    "                \"start\": ent.start_char,\n",
    "                \"end\": ent.end_char,\n",
    "                \"label\": ent.label_,\n",
    "                \"text\": ent.text\n",
    "            })\n",
    "\n",
    "        # If no entities are found, mark that as well\n",
    "        if not entities:\n",
    "            entities = \"No entities detected\"\n",
    "\n",
    "        # Append results to the list\n",
    "        annotated_data.append({\"text\": text, \"entities\": entities})\n",
    "    else:\n",
    "        # If text is invalid (not a string), skip this row\n",
    "        print(f\"Skipping row {idx} due to invalid text (not a string).\")\n",
    "\n",
    "# Create a DataFrame to save annotated results\n",
    "output_df = pd.DataFrame(annotated_data)\n",
    "\n",
    "# Save to the output CSV file\n",
    "output_df.to_csv(output_csv_path, index=False)\n",
    "\n",
    "print(f\"Annotated data has been saved to {output_csv_path}\")\n"
   ]
  },
  {
   "cell_type": "code",
   "execution_count": null,
   "metadata": {},
   "outputs": [],
   "source": [
    "input_csv = r'F:\\M.Tech_CollgeMaterials\\Ner_System\\data\\processed_data\\financial_reports\\Financial-QA-10k_processed.csv'  # Provide your input CSV file path\n",
    "output_csv = r'F:\\M.Tech_CollgeMaterials\\Ner_System\\data\\processed_data\\financial_reports\\anotated_data\\Fin_annotated_dtst.csv'  # Provide the desired output CSV file path"
   ]
  },
  {
   "cell_type": "code",
   "execution_count": 13,
   "metadata": {},
   "outputs": [
    {
     "data": {
      "text/plain": [
       "question             2\n",
       "answer               2\n",
       "context              1\n",
       "ticker               0\n",
       "filing               0\n",
       "cleaned_text         2\n",
       "standardized_text    2\n",
       "tokens               0\n",
       "dtype: int64"
      ]
     },
     "execution_count": 13,
     "metadata": {},
     "output_type": "execute_result"
    }
   ],
   "source": [
    "data.isnull().sum()"
   ]
  },
  {
   "cell_type": "code",
   "execution_count": null,
   "metadata": {},
   "outputs": [],
   "source": []
  }
 ],
 "metadata": {
  "kernelspec": {
   "display_name": "Python 3",
   "language": "python",
   "name": "python3"
  },
  "language_info": {
   "codemirror_mode": {
    "name": "ipython",
    "version": 3
   },
   "file_extension": ".py",
   "mimetype": "text/x-python",
   "name": "python",
   "nbconvert_exporter": "python",
   "pygments_lexer": "ipython3",
   "version": "3.11.3"
  }
 },
 "nbformat": 4,
 "nbformat_minor": 2
}
